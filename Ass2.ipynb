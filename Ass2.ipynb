import sys
import os
import cv2 # imports OpenCV
import numpy as np
from matplotlib import pyplot as plt #imports matplotlib
from google.colab.patches import cv2_imshow
%matplotlib inline
# You will NOT need to import any more libraries for ANY assignment.

def pltImg(img, title=None, ori="horizontal", colorb = True):  # not mandatory, but useful
  plt.imshow(img)
  if colorb:
    plt.colorbar(orientation=ori)
  if title:
    plt.title(title)
  return plt

def imgInfo(img, title="image"):  # Copied from Assignment 1 solutions
  print('Info of ' + title + ':\nMax:{}\nMin:{}\nType:{}\nShape:{}\n'.
        format(round(img.max(),1),round(img.min(),1),img.dtype,img.shape))

print('-'*40)
print ('Python version: {}'.format(sys.version))
print('OpenCV version: {}'.format(cv2.__version__))

if not READ_THE_INSTRUCTIONS_FLAG:
  raise Exception('Please go back and read the instructions.')
else:
  print('\nThank you for reading the instructions.')
print('-'*40)


# Here we simply download the needed images
if os.path.isfile('./uvic_1.jpg'):
  print('Image file already downloaded.')
else:
  !wget "https://raw.githubusercontent.com/dash-uvic/ece471_536-S2022/main/images/A1/uvic_1.jpg"

if os.path.isfile('./gamma_original.jpg'):
  print('Image file already downloaded.')
else:
  !wget "https://raw.githubusercontent.com/dash-uvic/ece471_536-S2022/main/images/A1/gamma_original.jpg"

if os.path.isfile('./low_contrast.jpg'):
  print('Low-contrast image file already downloaded.')
else:
  !wget "https://raw.githubusercontent.com/dash-uvic/ece471_536-S2022/main/images/A1/low_contrast.jpg"

if os.path.isfile('./bw_target.jpg'):
  print('B&W target image already downloaded.')
else:
  !wget "https://raw.githubusercontent.com/dash-uvic/ece471_536-S2022/main/images/A1/bw_target.jpg"

if os.path.isfile('./chessboard.png'):
  print('Chessboard reference image already downloaded.')
else:
  !wget -O chessboard.png "https://github.com/DeclanMcIntosh/ECE471_UVic/blob/main/6hNwn00.png?raw=true"

def apply_convolutional_filter(image, kernel):
    # ~~~~~~~START TODO~~~~~~~~~
    # (5 points): Create a function to apply a kernel to an image using convolution.
    # You may NOT use the np.convolve or np.pad functions.
    # The type of convolution must be zero padded same.
    # Therefore the output shape should be the same as the input.
    # You do not need to flip the kernel.
    # Pad image first
    img= image.copy()
    height = img.shape[0]
    width = img.shape[1]
    kernelSize = np.shape(kernel) # returns (rows,Cols)
    padPerSide = (kernelSize[0]-1)//2
    # Make 2D array made of zeros and copy image in center
    paddedTemplate = np.zeros((height+2*padPerSide, width+2*padPerSide))
    paddedTemplate[padPerSide:height+padPerSide, padPerSide:width+padPerSide] = img

    # Convolute
    for x in range(padPerSide,paddedTemplate.shape[0]-padPerSide):
      for y in range(padPerSide,paddedTemplate.shape[1]-padPerSide):
        sum = 0
        for kx in range(kernelSize[0]):
          for ky in range(kernelSize[1]):
            sum = sum + kernel[kx,ky]*paddedTemplate[x+kx-padPerSide,y+ky-padPerSide]
        img[x-padPerSide,y-padPerSide] = sum
    return img
  # ~~~~~~~~END TODO~~~~~~~~~~

def gaussian(size,sigma):
  # ~~~~~~~START TODO~~~~~~~~~
  # (5 points): Create a function which returns an appropriate gaussian filter
  # Ensure the output of your kernel has a sum of 1!
  # The formula should be of the form G(x,y) = exp(-(x^2+y^2)/(2*sigma^2))/(2*pi*sigma^2)
  kernel = np.zeros((size,size))
  kernelOffset = (size-1) // 2
  kernelSum = 0
  for x in range(size):
    for y in range(size):
      kernel[x,y] = round(np.exp(-((x-kernelOffset)**2+(y-kernelOffset)**2)/(2*sigma**2))/(2*np.pi*sigma**2)*10000)
      kernelSum = kernelSum + kernel[x,y]
  kernel= kernel/kernelSum
  return kernel
  # ~~~~~~~~END TODO~~~~~~~~~~


# ~~~~~~~START TODO~~~~~~~~~
# (3 points): Read the image at './uvic_1.jpg' and convert it to greyscale.
# You do not need to convert the image to grayscale manually.
# Re-scale the iamge down by a factor of 1/2.
# Then convert this image to a float (cv2.CV_32F).
# Finally create gaussian filters with size 3 and sigma 2 and size 3 and sigma 1.
# Print these gaussian filters.
img=cv2.imread("uvic_1.jpg")
img=cv2.resize(img,(0,0), fx=0.5, fy=0.5)
img = img.astype('float32')
img = cv2.cvtColor(img, cv2.COLOR_BGR2GRAY) # from https://www.geeksforgeeks.org/python-grayscaling-of-images-using-opencv/
gaussianFilterS2 = gaussian(3,2)
gaussianFilterS1 = gaussian(3,1)
print("\nThe 3x3 Gaussian filter with sigma 1 is the following:\n")
print(gaussianFilterS1)
print("\nThe 3x3 Gaussian filter with sigma 2 is the following:\n")
print(gaussianFilterS2)
# ~~~~~~~~END TODO~~~~~~~~~~


# ~~~~~~~START TODO~~~~~~~~~
# (2 points): Apply a gaussian kernel on your
# down-scalled normalized image.
# Use a kernel size of 5 and a sigma of 1.
# Print your kernel and it's sum as well as the input and output image sizes. 5 1
gaussianFilter5 = gaussian(5,1)
blurred=apply_convolutional_filter(img, gaussianFilter5)

# summing kernel
kernelSum = 0
for x in range(gaussianFilter5[0].size):
   for y in range(gaussianFilter5[0].size):
     kernelSum = kernelSum + gaussianFilter5[x,y]
print("\nThe 5x5 gaussian filter with sigma 1 is the following:\n ")
print(gaussianFilter5)
print("\nThe kernel adds up to:\n")
print(kernelSum)

imgInfo(img, title='greyscale image')
imgInfo(blurred, title='blurred image')
# ~~~~~~~~END TODO~~~~~~~~~~

plt.figure(figsize = (25,5))
plt.subplot(1, 2, 1)
plt = pltImg(img,title="Original greyscale image", ori='vertical')
plt.subplot(1, 2, 2)
plt = pltImg(blurred,title = "Blurred greyscale image", ori='vertical')

# ~~~~~~~START TODO~~~~~~~~~
# (3 points): Generate two 3x3 sobel filters for vertical and horizontal edges.
# Apply these filters to the blurred greyscale image from the previous section.
# Use the convolution function you implemented above.
HoriDetectKernel = np.array([[-1,0,1],[-2,0,2],[-1,0,1]])
VertDetectKernel = np.array([[1,2,1],[0,0,0],[-1,-2,-1]])
vertical = apply_convolutional_filter(img,VertDetectKernel)
horizontal = apply_convolutional_filter(img,HoriDetectKernel)

# ~~~~~~~~END TODO~~~~~~~~~~

# ~~~~~~~START TODO~~~~~~~~~
# (2 points): Generate a 3x3 Laplacian of Gaussian filter for vertical and horizontal edges.
# Apply this filter to the blurred greyscale image from the previous section.
# Use the convolution function you implemented above.
logKernel = np.array([[0,-1,0],[-1,4,-1],[0,-1,0]])
LOG_image = apply_convolutional_filter(blurred,logKernel)
# ~~~~~~~~END TODO~~~~~~~~~~


plt.figure(figsize = (20,4))
plt.subplot(1, 2, 1)
plt = pltImg(vertical,title= "Vertical Sobel", ori='vertical')
plt.subplot(1, 2, 2)
plt = pltImg(horizontal,title = "Horizontal Sobel", ori='vertical')
plt.figure(figsize = (12,4))
plt = pltImg(LOG_image,title="Laplacian of Gaussian", ori='vertical')

from numpy.ma.core import zeros_like

def non_maximal_suppression(gradient_magnitudes, gradient_directions):
  # ~~~~~~~START TODO~~~~~~~~~
  # (11 points): In this function you will generate a filtered gradient magnitude map.
  # All gradients which are non-maximal along the gradient direction
  # (normal to the edge) should be set to zero in the output gradient magnitude.
  # The output should be the same size as the input, you can ignore gradients
  # at the edge of the image.
  # round gradient values to 4 directions
  gradient_directions = abs(np.rad2deg(gradient_directions)) # convert -180 to 180 to 0 to 180
  height, width = gradient_directions.shape
  output = np.zeros((height,width),dtype=np.float32)
  for x in range(1,height-1): # ignoring gradients at edges
    for y in range(1,width-1):
      if 0<=gradient_directions[x,y]<22.5 or 157.5<=gradient_directions[x,y]<=180:
        # check values in horizontal
        val1 = gradient_magnitudes[x,y+1]
        val2 = gradient_magnitudes[x,y-1]
      elif 22.5<=gradient_directions[x,y]<67.5:
        # check values in 45 degree diagonal
        val1 = gradient_magnitudes[x+1,y+1]
        val2 = gradient_magnitudes[x-1,y-1]
      elif 67.5<=gradient_directions[x,y]<112.5:
        # check values in vertical direction
        val1 = gradient_magnitudes[x+1,y]
        val2 = gradient_magnitudes[x-1,y]
      elif 112.5<=gradient_directions[x,y]<157.5:
        # check values in 135 degree diagonals
        val1 = gradient_magnitudes[x-1,y+1]
        val2 = gradient_magnitudes[x+1,y-1]
      # output is already an empty matrix so no need to set to 0
      if gradient_magnitudes[x,y] >= val1 and gradient_magnitudes[x,y]>= val2:
        output[x,y] = gradient_magnitudes[x,y]
  return output
  # ~~~~~~~~END TODO~~~~~~~~~~

# ~~~~~~~START TODO~~~~~~~~~
# (2 points): Use the horizontal and vertical gradients
# from the sobel filter results above to generate the
# gradient magnitudes and directions.
magnitudes = np.sqrt(horizontal**2+vertical**2)
directions = np.arctan2(vertical,horizontal)


# ~~~~~~~~END TODO~~~~~~~~~~


suppressed_magnitudes = non_maximal_suppression(magnitudes.copy(), directions.copy())
print(int(np.sum(magnitudes)), int(np.sum(suppressed_magnitudes)))

plt.figure(figsize = (25,5))
plt.subplot(1, 2, 1)
plt = pltImg(magnitudes,title= "Magnitude", ori='vertical')
plt.subplot(1, 2, 2)
plt = pltImg(directions,title = "Direction", ori='vertical')

plt.figure(figsize = (25,5))
plt.subplot(1, 2, 1)
plt = pltImg(magnitudes,title= "Magnitude", ori='vertical')
plt.subplot(1, 2, 2)
plt = pltImg(suppressed_magnitudes,title = "Non-Maximal Suppressed Magnitude (Thin Edges)", ori='vertical')

def threasholding(magnitudes, low_threash, high_thresh):
  # ~~~~~~~START TODO~~~~~~~~~
  # (2 points): Threshold the magnitude images into a tertiary image
  # where 0 is no edge, 1 is possible edge and 2 is definte edge based on the
  # passed threasholds.
  # reference for mask use https://stackoverflow.com/questions/52123272/replace-values-in-array-using-mask-and-other-array
  noEdge = magnitudes < low_threash
  maybeEdge = (low_threash <= magnitudes) & (magnitudes <= high_thresh)
  sureEdge =  magnitudes>high_thresh
  magnitudes[noEdge] = 0
  magnitudes[maybeEdge] = 1
  magnitudes[sureEdge] = 2
  return magnitudes
  # ~~~~~~~~END TODO~~~~~~~~~~

threasholded_edges = threasholding(suppressed_magnitudes.copy(), 50,100)

plt.figure(figsize = (25,5))
plt.subplot(1, 2, 1)
plt = pltImg(suppressed_magnitudes,title= "Magnitude", ori='vertical')
plt.subplot(1, 2, 2)
plt = pltImg(threasholded_edges,title = "Thresholded Edges", ori='vertical')

def hysteresis(edges):
  # ~~~~~~~START TODO~~~~~~~~~
  # (5 points): Create binary image of edges by counting any week edge which
  # connects through any other weak edges to a strong edge from the input
  # tertiary image you created before.
  # A recursive helper function may be useful here!
  height,width= edges.shape
  visited = np.zeros((height,width))
  depth = 0 # recursion depth limit
  for x in range(1,height-1):
    for y in range(1,width-1):
      if edges[x, y] == 2:
        checkSurroundings(edges,x,y,visited,depth=0)
  return edges
  # ~~~~~~~~END TODO~~~~~~~~~~
# checks surroundings of a pixel values and follows to whichever quadrant is not 0
# helper function
def checkSurroundings (edges,x,y,visited,depth):
    depth = depth + 1
    if depth > 300: ## to keep recursion at a limit
      return 0
    edges[x,y] = 2 # set the current edge to 2
    visited[x,y] = 1 # to ensure that function exits once all pixels have been visited
    if edges[x+1,y]>0 and not visited[x+1,y]:
      checkSurroundings(edges,x+1,y,visited,depth+1)
    if edges[x-1,y]>0 and not visited[x-1,y]:
      checkSurroundings(edges,x-1,y,visited,depth+1)
    if edges[x,y+1]>0 and not visited[x,y+1]:
      checkSurroundings(edges,x,y+1,visited,depth+1)
    if edges[x,y-1]>0 and not visited[x,y-1]:
      checkSurroundings(edges,x,y-1,visited,depth+1)
    if edges[x+1,y+1]>0 and not visited[x+1,y+1]:
      checkSurroundings(edges,x+1,y+1,visited,depth+1)
    if edges[x-1,y+1]>0 and not visited[x-1,y+1]:
      checkSurroundings(edges,x-1,y+1,visited,depth+1)
    if edges[x+1,y-1]>0 and not visited[x+1,y-1]:
      checkSurroundings(edges,x+1,y-1,visited,depth+1)
    if edges[x-1,y-1]>0 and not visited[x-1,y-1]:
      checkSurroundings(edges,x-1,y-1,visited,depth+1)

#~~~~~~~~~~~~~Helper function end~~~~~~~~~~~

final_edges = hysteresis(threasholded_edges.copy())

plt.figure(figsize = (25,5))
plt.subplot(1, 2, 1)
plt = pltImg(threasholded_edges,title= "Thresholded Edges", ori='vertical')
plt.subplot(1, 2, 2)
plt = pltImg(final_edges,title = "Final Edges", ori='vertical')

def fast_keypoint(image, threashold, n):
  # ~~~~~~~START TODO~~~~~~~~~
  # (5 points): create a list of points in the image which are
  # FAST keypoints in the image based on the FAST keypoint criteria.
  # You can ignore the edges of the image where the test would
  # require access out of image size.
  # The output keypoints should be a list of points like:
  # [(y_1,x_1),(y_2,x_2),....]
  # considering a test circle of radius 3
  keypoints = []
  r=3
  height,width = image.shape
  circleRelativeCoordinates = [(-3,0),(-3,1),(-2,2),(-1,3),( 0,3),( 1,3),( 2,2),( 3,1),( 3,0),( 3,-1),( 2,-2),( 1,-3),( 0,-3),(-1,-3),(-2,-2),(-3,-1)]
  fastCoordinates = [(-3,0),(0,3),(3,0),(0,-3)]
  intensityValues=[]
  contiguousPixels=0
  longestArc = 0
  for x in range(r,height-r):
    for y in range(r,width-r):
      ## FAST Check
      for(p,o) in fastCoordinates:
        if image[x+p,y+o]>(image[x,y]+threashold):
          ## pixel is brighter
          intensityValues.append(1)
        elif image[x+p,y+o]<(image[x,y]-threashold):
          ## pixel is darker
          intensityValues.append(-1)
        else:
          intensityValues.append(0)
      fastBright = intensityValues.count(1)
      fastDark = intensityValues.count(-1)
      intensityValues = [] # reset for next use
      if fastBright >=3 or fastDark >= 3:
        for (j,k) in circleRelativeCoordinates:
          if image[x+j,y+k]>(image[x,y]+threashold):
            ## pixel is brighter
            intensityValues.append(1)
          elif image[x+j,y+k]<(image[x,y]-threashold):
            ## pixel is darker
            intensityValues.append(-1)
          else:
            intensityValues.append(0) # need to keep track of values that do not pass threashold
        intensityValues+=intensityValues #to ensure the whole circle is checked
        for b in range(1,len(intensityValues)):
          if intensityValues[b] == intensityValues[b-1] and intensityValues[b] != 0:
            longestArc = longestArc + 1
          else:
            longestArc = 1
          if contiguousPixels < longestArc:
            contiguousPixels = longestArc
        if contiguousPixels >= n:
          keypoints.append((y, x))
        contiguousPixels = 0
        longestArc = 0
        intensityValues = []
  return keypoints
  # ~~~~~~~~END TODO~~~~~~~~~~

img = cv2.imread('./chessboard.png', cv2.IMREAD_GRAYSCALE)
kps = fast_keypoint(img, 10, 9)
print(len(kps))
img_RGB = cv2.cvtColor(img, cv2.COLOR_GRAY2RGB)
for kp in kps:
  cv2.circle(img_RGB, kp, 3, [0,0,255])

plt.figure(figsize = (15,7))
plt = pltImg(img_RGB,title="Chessboard Keypoints", ori='vertical')
